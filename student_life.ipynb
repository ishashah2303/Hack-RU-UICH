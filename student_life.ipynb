{
 "cells": [
  {
   "cell_type": "code",
   "execution_count": 29,
   "id": "83f51976",
   "metadata": {},
   "outputs": [],
   "source": [
    "from langgraph.graph import StateGraph, START, END\n",
    "from langchain_google_genai import ChatGoogleGenerativeAI\n",
    "from pydantic import BaseModel, Field\n",
    "from typing import TypedDict\n",
    "from dotenv import load_dotenv"
   ]
  },
  {
   "cell_type": "code",
   "execution_count": 30,
   "id": "1dea803f",
   "metadata": {},
   "outputs": [
    {
     "data": {
      "text/plain": [
       "True"
      ]
     },
     "execution_count": 30,
     "metadata": {},
     "output_type": "execute_result"
    }
   ],
   "source": [
    "load_dotenv()"
   ]
  },
  {
   "cell_type": "code",
   "execution_count": 31,
   "id": "72c97fb4",
   "metadata": {},
   "outputs": [],
   "source": [
    "model = ChatGoogleGenerativeAI(model=\"gemini-2.5-pro\")"
   ]
  },
  {
   "cell_type": "code",
   "execution_count": null,
   "id": "c470e9f4",
   "metadata": {},
   "outputs": [],
   "source": [
    "class ClassesSchema(BaseModel):\n",
    "    classes: list[str] = Field(..., description=\"Category of the query from the following - book_study_room, find_study_group, get_class_schedule, get_assignment_deadline, get_exam_schedule, order_food, order_coffee, find_nearby_food, check_dining_hours, get_events, register_event, recommend_activity, get_club_meetings, check_library_hours, find_gym_slot, find_campus_service, check_laundry_status, reserve_parking, get_directions, check_bus_schedule, book_cab, find_bike_rack, add_calendar_event, set_reminder, summarize_emails, make_todo_list, get_weather\")\n",
    "    api_calls: list[str] = Field(..., description=\"APIs to be called to get information\")"
   ]
  },
  {
   "cell_type": "code",
   "execution_count": 33,
   "id": "b9256e62",
   "metadata": {},
   "outputs": [],
   "source": [
    "structured_model = model.with_structured_output(ClassesSchema)"
   ]
  },
  {
   "cell_type": "code",
   "execution_count": 34,
   "id": "4637038f",
   "metadata": {},
   "outputs": [],
   "source": [
    "class StudentLifeState(TypedDict):\n",
    "    query: str\n",
    "    classes: list[str]\n",
    "    api_calls: list[str]\n",
    "    response: str"
   ]
  },
  {
   "cell_type": "code",
   "execution_count": 35,
   "id": "2d1db915",
   "metadata": {},
   "outputs": [],
   "source": [
    "def identify_task(state: StudentLifeState) -> StudentLifeState:\n",
    "    classes_identified = structured_model.invoke(\n",
    "        f\"Identify the category of the following student life related query and the APIs to be called to get information. Query: {state['query']}\"\n",
    "    )\n",
    "    return {\n",
    "        \"classes\": classes_identified.classes,\n",
    "        \"api_calls\": classes_identified.api_calls\n",
    "    }"
   ]
  },
  {
   "cell_type": "code",
   "execution_count": 36,
   "id": "32412d73",
   "metadata": {},
   "outputs": [],
   "source": [
    "graph = StateGraph(StudentLifeState)"
   ]
  },
  {
   "cell_type": "code",
   "execution_count": 37,
   "id": "e0346952",
   "metadata": {},
   "outputs": [
    {
     "data": {
      "text/plain": [
       "<langgraph.graph.state.StateGraph at 0x118156350>"
      ]
     },
     "execution_count": 37,
     "metadata": {},
     "output_type": "execute_result"
    }
   ],
   "source": [
    "graph.add_node(\"identify_task\", identify_task)"
   ]
  },
  {
   "cell_type": "code",
   "execution_count": 38,
   "id": "d80cce5a",
   "metadata": {},
   "outputs": [
    {
     "data": {
      "text/plain": [
       "<langgraph.graph.state.StateGraph at 0x118156350>"
      ]
     },
     "execution_count": 38,
     "metadata": {},
     "output_type": "execute_result"
    }
   ],
   "source": [
    "graph.add_edge(START, \"identify_task\")\n",
    "graph.add_edge(\"identify_task\", END)"
   ]
  },
  {
   "cell_type": "code",
   "execution_count": 39,
   "id": "86235e42",
   "metadata": {},
   "outputs": [],
   "source": [
    "workflow = graph.compile()"
   ]
  },
  {
   "cell_type": "code",
   "execution_count": 40,
   "id": "84d68514",
   "metadata": {},
   "outputs": [
    {
     "data": {
      "image/png": "[encoded data removed]",
      "text/plain": [
       "<IPython.core.display.Image object>"
      ]
     },
     "execution_count": 40,
     "metadata": {},
     "output_type": "execute_result"
    }
   ],
   "source": [
    "from IPython.display import Image\n",
    "Image(workflow.get_graph().draw_mermaid_png())"
   ]
  },
  {
   "cell_type": "code",
   "execution_count": 48,
   "id": "61a0c3d6",
   "metadata": {},
   "outputs": [
    {
     "data": {
      "text/plain": [
       "{'query': 'I am failing midterms.',\n",
       " 'classes': ['find_study_group',\n",
       "  'get_class_schedule',\n",
       "  'get_assignment_deadline'],\n",
       " 'api_calls': ['find_study_group',\n",
       "  'get_class_schedule',\n",
       "  'get_assignment_deadline']}"
      ]
     },
     "execution_count": 48,
     "metadata": {},
     "output_type": "execute_result"
    }
   ],
   "source": [
    "workflow.invoke({\"query\": \"I am failing midterms.\"})"
   ]
  },
  {
   "cell_type": "code",
   "execution_count": null,
   "id": "d6a3b0b4",
   "metadata": {},
   "outputs": [],
   "source": []
  }
 ],
 "metadata": {
  "kernelspec": {
   "display_name": ".venv",
   "language": "python",
   "name": "python3"
  },
  "language_info": {
   "codemirror_mode": {
    "name": "ipython",
    "version": 3
   },
   "file_extension": ".py",
   "mimetype": "text/x-python",
   "name": "python",
   "nbconvert_exporter": "python",
   "pygments_lexer": "ipython3",
   "version": "3.13.5"
  }
 },
 "nbformat": 4,
 "nbformat_minor": 5
}
