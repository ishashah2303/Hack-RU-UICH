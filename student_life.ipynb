{
 "cells": [
  {
   "cell_type": "code",
   "execution_count": 137,
   "id": "83f51976",
   "metadata": {},
   "outputs": [],
   "source": [
    "from langgraph.graph import StateGraph, START, END\n",
    "from langchain_google_genai import ChatGoogleGenerativeAI\n",
    "from pydantic import BaseModel, Field\n",
    "from typing import TypedDict\n",
    "from dotenv import load_dotenv\n",
    "import requests"
   ]
  },
  {
   "cell_type": "code",
   "execution_count": 138,
   "id": "1dea803f",
   "metadata": {},
   "outputs": [
    {
     "data": {
      "text/plain": [
       "True"
      ]
     },
     "execution_count": 138,
     "metadata": {},
     "output_type": "execute_result"
    }
   ],
   "source": [
    "load_dotenv()"
   ]
  },
  {
   "cell_type": "code",
   "execution_count": 139,
   "id": "72c97fb4",
   "metadata": {},
   "outputs": [
    {
     "name": "stderr",
     "output_type": "stream",
     "text": [
      "E0000 00:00:1759607132.758316 4888598 alts_credentials.cc:93] ALTS creds ignored. Not running on GCP and untrusted ALTS is not enabled.\n"
     ]
    }
   ],
   "source": [
    "model = ChatGoogleGenerativeAI(model=\"gemini-2.5-pro\")"
   ]
  },
  {
   "cell_type": "code",
   "execution_count": 140,
   "id": "c470e9f4",
   "metadata": {},
   "outputs": [],
   "source": [
    "class ClassesSchema(BaseModel):\n",
    "    classes: list[str] = Field(..., description=\"Category of the query from the following - book_study_room, order_food, get_events, find_campus_service, reserve_parking, check_bus_schedule, book_cab, find_bike_rack, set_reminder, get_weather\")"
   ]
  },
  {
   "cell_type": "code",
   "execution_count": 141,
   "id": "b9256e62",
   "metadata": {},
   "outputs": [],
   "source": [
    "structured_model = model.with_structured_output(ClassesSchema)"
   ]
  },
  {
   "cell_type": "code",
   "execution_count": 142,
   "id": "4637038f",
   "metadata": {},
   "outputs": [],
   "source": [
    "class StudentLifeState(TypedDict):\n",
    "    query: str\n",
    "    classes: list[str]\n",
    "    api_results: dict[str, str]\n",
    "    response: str"
   ]
  },
  {
   "cell_type": "code",
   "execution_count": 143,
   "id": "2d1db915",
   "metadata": {},
   "outputs": [],
   "source": [
    "def identify_task(state: StudentLifeState) -> StudentLifeState:\n",
    "    classes_identified = structured_model.invoke(\n",
    "        f\"Identify the category of the following student life related query and the APIs to be called to get information. Query: {state['query']}\"\n",
    "    )\n",
    "    return {\n",
    "        \"classes\": classes_identified.classes\n",
    "    }"
   ]
  },
  {
   "cell_type": "code",
   "execution_count": 144,
   "id": "433279a9",
   "metadata": {},
   "outputs": [],
   "source": [
    "def call_apis(state: StudentLifeState) -> StudentLifeState:\n",
    "    results = {}\n",
    "    for api in state[\"classes\"]:\n",
    "        # Mock API call\n",
    "        res = requests.get(f\"http://localhost:8000/{api}\").json()\n",
    "        results[api] = res\n",
    "    return {\n",
    "        \"api_results\": results\n",
    "    }\n"
   ]
  },
  {
   "cell_type": "code",
   "execution_count": 145,
   "id": "93fa21a4",
   "metadata": {},
   "outputs": [],
   "source": [
    "def generate_response(state: StudentLifeState) -> StudentLifeState:\n",
    "    prompt = f\"\"\"\n",
    "    You are an intelligent assistant. A user asked the following query:\n",
    "\n",
    "    {state['query']}\n",
    "\n",
    "    You have received API results for these classes: {state['classes']}\n",
    "\n",
    "    API Results:\n",
    "    {state['api_results']}\n",
    "\n",
    "    Please answer the user's query using the information from the API results. \n",
    "    - If the api result asks for weather prediction, then predict the weather based on the location.\n",
    "    - If multiple classes have relevant data, integrate it into a coherent answer.\n",
    "    - If no relevant information is found, politely indicate that you cannot find an answer.\n",
    "    - Keep the response concise and informative.\n",
    "    \"\"\"\n",
    "\n",
    "    reply = model.invoke(prompt)\n",
    "    state[\"response\"] = reply.content\n",
    "    return state\n"
   ]
  },
  {
   "cell_type": "code",
   "execution_count": 146,
   "id": "32412d73",
   "metadata": {},
   "outputs": [],
   "source": [
    "graph = StateGraph(StudentLifeState)"
   ]
  },
  {
   "cell_type": "code",
   "execution_count": 147,
   "id": "e0346952",
   "metadata": {},
   "outputs": [
    {
     "data": {
      "text/plain": [
       "<langgraph.graph.state.StateGraph at 0x11da6fc50>"
      ]
     },
     "execution_count": 147,
     "metadata": {},
     "output_type": "execute_result"
    }
   ],
   "source": [
    "graph.add_node(\"identify_task\", identify_task)\n",
    "graph.add_node(\"call_apis\", call_apis)\n",
    "graph.add_node(\"generate_response\", generate_response)"
   ]
  },
  {
   "cell_type": "code",
   "execution_count": 148,
   "id": "d80cce5a",
   "metadata": {},
   "outputs": [
    {
     "data": {
      "text/plain": [
       "<langgraph.graph.state.StateGraph at 0x11da6fc50>"
      ]
     },
     "execution_count": 148,
     "metadata": {},
     "output_type": "execute_result"
    }
   ],
   "source": [
    "graph.add_edge(START, \"identify_task\")\n",
    "graph.add_edge(\"identify_task\", \"call_apis\")\n",
    "graph.add_edge(\"call_apis\", \"generate_response\")\n",
    "graph.add_edge(\"generate_response\", END)"
   ]
  },
  {
   "cell_type": "code",
   "execution_count": 149,
   "id": "86235e42",
   "metadata": {},
   "outputs": [],
   "source": [
    "workflow = graph.compile()"
   ]
  },
  {
   "cell_type": "code",
   "execution_count": 150,
   "id": "84d68514",
   "metadata": {},
   "outputs": [
    {
     "data": {
      "image/png": "[encoded data removed]",
      "text/plain": [
       "<IPython.core.display.Image object>"
      ]
     },
     "execution_count": 150,
     "metadata": {},
     "output_type": "execute_result"
    }
   ],
   "source": [
    "from IPython.display import Image\n",
    "Image(workflow.get_graph().draw_mermaid_png())"
   ]
  },
  {
   "cell_type": "code",
   "execution_count": 158,
   "id": "61a0c3d6",
   "metadata": {},
   "outputs": [],
   "source": [
    "message = workflow.invoke({\"query\": \"Give me 6th october events\"})"
   ]
  },
  {
   "cell_type": "code",
   "execution_count": 159,
   "id": "d6a3b0b4",
   "metadata": {},
   "outputs": [
    {
     "data": {
      "text/plain": [
       "'On October 6th, 2025, the following events are scheduled:\\n\\n*   **Chapter 5**: This event runs from 12:00 AM to 1:00 AM.\\n*   **Verse One - PRACTICE!**: This practice session, which starts on October 5th, will conclude at 2:00 AM.\\n*   **Candidate Meeting 3**: This meeting also starts on October 5th and ends at 12:00 AM.'"
      ]
     },
     "execution_count": 159,
     "metadata": {},
     "output_type": "execute_result"
    }
   ],
   "source": [
    "message['response']"
   ]
  },
  {
   "cell_type": "code",
   "execution_count": null,
   "id": "bfd7b260",
   "metadata": {},
   "outputs": [],
   "source": []
  }
 ],
 "metadata": {
  "kernelspec": {
   "display_name": ".venv",
   "language": "python",
   "name": "python3"
  },
  "language_info": {
   "codemirror_mode": {
    "name": "ipython",
    "version": 3
   },
   "file_extension": ".py",
   "mimetype": "text/x-python",
   "name": "python",
   "nbconvert_exporter": "python",
   "pygments_lexer": "ipython3",
   "version": "3.13.5"
  }
 },
 "nbformat": 4,
 "nbformat_minor": 5
}
